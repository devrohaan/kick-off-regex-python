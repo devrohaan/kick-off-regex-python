{
 "cells": [
  {
   "cell_type": "code",
   "execution_count": 58,
   "metadata": {},
   "outputs": [],
   "source": [
    "import re\n",
    "\n",
    "text = \"\"\"101 COM    Computers\n",
    "205 MAT   Mathematics\n",
    "189 ENG   English\"\"\""
   ]
  },
  {
   "cell_type": "markdown",
   "metadata": {},
   "source": [
    "## Why do we compile regex pattern?"
   ]
  },
  {
   "cell_type": "markdown",
   "metadata": {},
   "source": [
    "- Compile process parses the regular expression and builds an in-memory representation of the regex string. \n",
    "- The overhead to compile is significant compared to a match. \n",
    "- If you're using a pattern repeatedly it will gain some performance to cache the compiled pattern."
   ]
  },
  {
   "cell_type": "markdown",
   "metadata": {},
   "source": [
    "### Example 1."
   ]
  },
  {
   "cell_type": "code",
   "execution_count": 2,
   "metadata": {},
   "outputs": [
    {
     "name": "stdout",
     "output_type": "stream",
     "text": [
      "['101', 'COM', 'Computers', '205', 'MAT', 'Mathematics', '189', 'ENG', 'English']\n"
     ]
    }
   ],
   "source": [
    "pattern = r\"\\s+\"\n",
    "\n",
    "regex = re.compile(pattern)\n",
    "\n",
    "listobj = regex.split(text)  # spilt when you find one or nore whitespaces\n",
    "\n",
    "print(listobj)"
   ]
  },
  {
   "cell_type": "markdown",
   "metadata": {},
   "source": [
    "### Example 2. Alternate Method without compiling the pattern"
   ]
  },
  {
   "cell_type": "code",
   "execution_count": 4,
   "metadata": {},
   "outputs": [
    {
     "name": "stdout",
     "output_type": "stream",
     "text": [
      "['101', 'COM', 'Computers', '205', 'MAT', 'Mathematics', '189', 'ENG', 'English']\n"
     ]
    }
   ],
   "source": [
    "listobj = re.split('\\s+', text) # not a good practice as mentioned reason.\n",
    "print(listobj)\n"
   ]
  },
  {
   "cell_type": "markdown",
   "metadata": {},
   "source": [
    "### Example 3."
   ]
  },
  {
   "cell_type": "code",
   "execution_count": 6,
   "metadata": {},
   "outputs": [
    {
     "name": "stdout",
     "output_type": "stream",
     "text": [
      "['101', '205', '189']\n"
     ]
    }
   ],
   "source": [
    "pattern = r\"\\d+\"\n",
    "\n",
    "regex = re.compile(pattern)\n",
    "\n",
    "listobj = regex.findall(text) # Find one or nore digits.\n",
    "\n",
    "print(listobj)"
   ]
  },
  {
   "cell_type": "markdown",
   "metadata": {},
   "source": [
    "### Example 4. findall vs search vs match"
   ]
  },
  {
   "cell_type": "markdown",
   "metadata": {},
   "source": [
    "\n",
    "- findall - returns the matched portions of the text as a list.\n",
    "             \n",
    "          scanned left-to-right\n",
    "          non-overlapping matches of pattern \n",
    "          \n",
    "- search - returns a match object that contains \n",
    "          \n",
    "          [starting and ending positions of the first occurrence of the pattern]\n",
    "          returns None (if the pattern not present)\n",
    "          This method stops after the first match.\n",
    "         \n",
    "- match - returns a match object. But the difference is, \n",
    "         \n",
    "          it requires the pattern to be present at the beginning of the text itself.\n",
    "          in between is not matched,\n",
    "          in a nutshell, string must start with the pattern,\n",
    "          else None"
   ]
  },
  {
   "cell_type": "code",
   "execution_count": 8,
   "metadata": {},
   "outputs": [
    {
     "name": "stdout",
     "output_type": "stream",
     "text": [
      "['101', '205', '189']\n"
     ]
    }
   ],
   "source": [
    "listobj = regex.findall(text)\n",
    "print(listobj)"
   ]
  },
  {
   "cell_type": "code",
   "execution_count": 9,
   "metadata": {},
   "outputs": [
    {
     "name": "stdout",
     "output_type": "stream",
     "text": [
      "0\n",
      "3\n",
      "(0, 3)\n",
      "101\n",
      "101\n"
     ]
    }
   ],
   "source": [
    "matchobj =  regex.search(text)\n",
    "# stops after the first match ie 101\n",
    "\n",
    "print(matchobj.start()) # 0\n",
    "print(matchobj.end())   # 3\n",
    "print(matchobj.span())  # (0,3)\n",
    "print(matchobj.group()) # 101\n",
    "print(matchobj.group(0)) # 101\n",
    "\n"
   ]
  },
  {
   "cell_type": "code",
   "execution_count": 19,
   "metadata": {},
   "outputs": [
    {
     "name": "stdout",
     "output_type": "stream",
     "text": [
      "101\n",
      "None\n"
     ]
    }
   ],
   "source": [
    "matchobj =  regex.match(text)\n",
    "print(matchobj.group(0))\n",
    "#print(matchobj.group(1)) # error no such group as it stops after first match.\n",
    "\n",
    "matchobj =  regex.match(\"Rohan 101\")\n",
    "print(matchobj) # it requires the pattern to be present at the beginning of the text itself.\n",
    "\n"
   ]
  },
  {
   "cell_type": "markdown",
   "metadata": {},
   "source": [
    "### HACK 1"
   ]
  },
  {
   "cell_type": "code",
   "execution_count": 21,
   "metadata": {},
   "outputs": [
    {
     "data": {
      "text/plain": [
       "['COM', 'Computers', 'MAT', 'Mathematics', 'ENG', 'English']"
      ]
     },
     "execution_count": 21,
     "metadata": {},
     "output_type": "execute_result"
    }
   ],
   "source": [
    "re.findall('[a-z]+', text, flags=re.IGNORECASE)"
   ]
  },
  {
   "cell_type": "markdown",
   "metadata": {},
   "source": [
    "### Example 5. sub"
   ]
  },
  {
   "cell_type": "code",
   "execution_count": 24,
   "metadata": {},
   "outputs": [
    {
     "name": "stdout",
     "output_type": "stream",
     "text": [
      "COURSE_CODE COM    Computers\n",
      "COURSE_CODE MAT   Mathematics\n",
      "COURSE_CODE ENG   English\n"
     ]
    }
   ],
   "source": [
    "pattern = \"\\d+\"\n",
    "\n",
    "regex = re.compile(pattern)\n",
    "\n",
    "string = regex.sub('COURSE_CODE', text) # returns string\n",
    "\n",
    "print(string)\n"
   ]
  },
  {
   "cell_type": "code",
   "execution_count": 26,
   "metadata": {},
   "outputs": [
    {
     "name": "stdout",
     "output_type": "stream",
     "text": [
      "COURSE_CODE COM    Computers\n",
      "COURSE_CODE MAT   Mathematics\n",
      "COURSE_CODE ENG   English\n"
     ]
    }
   ],
   "source": [
    "print(re.sub('\\d+', 'COURSE_CODE', text))"
   ]
  },
  {
   "cell_type": "markdown",
   "metadata": {},
   "source": [
    "### Example 6."
   ]
  },
  {
   "cell_type": "code",
   "execution_count": 32,
   "metadata": {},
   "outputs": [
    {
     "data": {
      "text/plain": [
       "'WisdmiCPanda'"
      ]
     },
     "execution_count": 32,
     "metadata": {},
     "output_type": "execute_result"
    }
   ],
   "source": [
    "text1 = 'W!@isdmi&|C P@:an,@da'\n",
    "list = re.split('[!@,:\\s\\'|&]+',text1) \n",
    "''.join(list) # 'WisdmiCPanda'"
   ]
  },
  {
   "cell_type": "code",
   "execution_count": 34,
   "metadata": {},
   "outputs": [
    {
     "name": "stdout",
     "output_type": "stream",
     "text": [
      "['COM', 'MAT', 'ENG']\n"
     ]
    }
   ],
   "source": [
    "listobj = re.findall('[A-Z]{3}', text)\n",
    "\n",
    "print(listobj)"
   ]
  },
  {
   "cell_type": "code",
   "execution_count": 35,
   "metadata": {},
   "outputs": [
    {
     "name": "stdout",
     "output_type": "stream",
     "text": [
      "['CO', 'MA', 'EN']\n"
     ]
    }
   ],
   "source": [
    "listobj = re.findall('[A-Z]{2}', text)\n",
    "print(listobj)"
   ]
  },
  {
   "cell_type": "code",
   "execution_count": 40,
   "metadata": {},
   "outputs": [
    {
     "name": "stdout",
     "output_type": "stream",
     "text": [
      "['CO', 'Co', 'mp', 'ut', 'er', 'MA', 'Ma', 'th', 'em', 'at', 'ic', 'EN', 'En', 'gl', 'is']\n"
     ]
    }
   ],
   "source": [
    "listobj = re.findall('[A-Za-z]{2}', text)\n",
    "print(listobj)"
   ]
  },
  {
   "cell_type": "code",
   "execution_count": 44,
   "metadata": {},
   "outputs": [
    {
     "name": "stdout",
     "output_type": "stream",
     "text": [
      "[]\n"
     ]
    }
   ],
   "source": [
    "stobj = re.findall('[A-Z]{4}', text)\n",
    "print(stobj)"
   ]
  },
  {
   "cell_type": "code",
   "execution_count": 42,
   "metadata": {},
   "outputs": [
    {
     "name": "stdout",
     "output_type": "stream",
     "text": [
      "['COM', 'C', 'MAT', 'M', 'ENG', 'E']\n"
     ]
    }
   ],
   "source": [
    "listobj = re.findall('[A-Z]{1,}', text) #will have at least 1 or more characters.\n",
    "print(listobj)"
   ]
  },
  {
   "cell_type": "markdown",
   "metadata": {},
   "source": [
    "#### course_pattern = '([0-9]+)\\s*([A-Z]{3})\\s*([A-Za-z]{4,})'\n",
    "\n",
    "        '''\n",
    "        ([0-9]+)\n",
    "        ([A-Z]{3})\n",
    "        ([A-Za-z]{4,})\n",
    "        '''"
   ]
  },
  {
   "cell_type": "markdown",
   "metadata": {},
   "source": [
    "### Example 7."
   ]
  },
  {
   "cell_type": "code",
   "execution_count": 46,
   "metadata": {},
   "outputs": [
    {
     "data": {
      "text/plain": [
       "['2015']"
      ]
     },
     "execution_count": 46,
     "metadata": {},
     "output_type": "execute_result"
    }
   ],
   "source": [
    "text2 = '01, Jan 2015'\n",
    "\n",
    "pattern = '\\d{4}'\n",
    "\n",
    "regex = re.compile(pattern)\n",
    "\n",
    "regex.findall(text2)"
   ]
  },
  {
   "cell_type": "code",
   "execution_count": 48,
   "metadata": {},
   "outputs": [
    {
     "data": {
      "text/plain": [
       "['01', '2015']"
      ]
     },
     "execution_count": 48,
     "metadata": {},
     "output_type": "execute_result"
    }
   ],
   "source": [
    "re.findall('\\d{2,4}',text2)"
   ]
  },
  {
   "cell_type": "code",
   "execution_count": 51,
   "metadata": {},
   "outputs": [
    {
     "data": {
      "text/plain": [
       "['Jan']"
      ]
     },
     "execution_count": 51,
     "metadata": {},
     "output_type": "execute_result"
    }
   ],
   "source": [
    "re.findall('J?an',text2) # 0 or exactly 1 occurence of J'"
   ]
  },
  {
   "cell_type": "markdown",
   "metadata": {},
   "source": [
    "### Example 8. Word boundry\n",
    "\n",
    "- \\b is commonly used to detect and match the beginning or end of a word.\n",
    "- **\\bpanda** will match the *panda*  in **‘pandarohan’** and not in **rohanpanda.**\n",
    "- In order to match the *panda* in **rohanpanda**, you should use **panda\\b**"
   ]
  },
  {
   "cell_type": "code",
   "execution_count": 52,
   "metadata": {},
   "outputs": [
    {
     "data": {
      "text/plain": [
       "['panda', 'panda']"
      ]
     },
     "execution_count": 52,
     "metadata": {},
     "output_type": "execute_result"
    }
   ],
   "source": [
    "re.findall(r'\\bpanda', 'wisdomic panda not wisdomic pandarohan')"
   ]
  },
  {
   "cell_type": "code",
   "execution_count": 54,
   "metadata": {},
   "outputs": [
    {
     "data": {
      "text/plain": [
       "['panda']"
      ]
     },
     "execution_count": 54,
     "metadata": {},
     "output_type": "execute_result"
    }
   ],
   "source": [
    "re.findall(r'\\bpanda\\b', 'wisdomic panda not wisdomic pandarohan')\n",
    "# gets the exact word panda as we have boundries on both ends.\n"
   ]
  },
  {
   "cell_type": "markdown",
   "metadata": {},
   "source": [
    "### Exercise"
   ]
  },
  {
   "cell_type": "markdown",
   "metadata": {},
   "source": [
    "1. Find Email Address"
   ]
  },
  {
   "cell_type": "code",
   "execution_count": 56,
   "metadata": {},
   "outputs": [
    {
     "name": "stdout",
     "output_type": "stream",
     "text": [
      "['wisdomic@panda.com', 'robagwe@gmail.com']\n"
     ]
    }
   ],
   "source": [
    "string  = 'My name is CR7, and wisdomic@panda.com is my email. robagwe@gmail.com'\n",
    "\n",
    "pattern = r\"\\w+@[a-z]+\\.[a-z]+\"\n",
    "\n",
    "regex = re.compile(pattern)\n",
    "\n",
    "listobj = regex.findall(string)\n",
    "print(listobj)"
   ]
  },
  {
   "cell_type": "markdown",
   "metadata": {},
   "source": [
    "### Sample Regex used frequently in data preprocessing"
   ]
  },
  {
   "cell_type": "code",
   "execution_count": 60,
   "metadata": {},
   "outputs": [],
   "source": [
    "\n",
    "string1 = ''\n",
    "\n",
    "tmp = re.sub(r'\\$\\w*','',string1) # Remove tickers\n",
    "tmp = re.sub(r'https?:\\/\\/.*\\/\\w*','',string1) # Remove hyperlinks\n",
    "tmp = re.sub(r'['+string.punctuation+']+', ' ',string1) # Remove puncutations like 's"
   ]
  }
 ],
 "metadata": {
  "kernelspec": {
   "display_name": "Python 3",
   "language": "python",
   "name": "python3"
  },
  "language_info": {
   "codemirror_mode": {
    "name": "ipython",
    "version": 3
   },
   "file_extension": ".py",
   "mimetype": "text/x-python",
   "name": "python",
   "nbconvert_exporter": "python",
   "pygments_lexer": "ipython3",
   "version": "3.5.4"
  }
 },
 "nbformat": 4,
 "nbformat_minor": 2
}
